{
 "cells": [
  {
   "cell_type": "code",
   "execution_count": null,
   "id": "7e727ac1-5675-4f41-a0a6-b9fe855d481b",
   "metadata": {},
   "outputs": [],
   "source": [
    "import os\n",
    "from tkinter import Tk, filedialog\n",
    "from wand.image import Image\n",
    "from multiprocessing import Pool, cpu_count\n",
    "\n",
    "# Create an instance of Tkinter\n",
    "root = Tk()\n",
    "root.withdraw()\n",
    "\n",
    "# Prompt the user to select input files\n",
    "input_filenames = filedialog.askopenfilenames(title='Select Input Files', filetypes=[('WebP Files', '*.webp')])\n",
    "\n",
    "# Define a function to convert a single input file to a GIF\n",
    "def convert_to_gif(input_filename):\n",
    "    with Image(filename=input_filename) as img:\n",
    "        output_filename = os.path.splitext(input_filename)[0] + '.gif'\n",
    "        with img.convert('gif') as converted:\n",
    "            converted.save(filename=output_filename)\n",
    "            print(f'{input_filename} converted to {output_filename}')\n",
    "\n",
    "# Use multiprocessing to speed up the conversion process\n",
    "if __name__ == '__main__':\n",
    "    with Pool(cpu_count()) as p:\n",
    "        p.map(convert_to_gif, input_filenames)\n"
   ]
  }
 ],
 "metadata": {
  "kernelspec": {
   "display_name": "Python 3 (ipykernel)",
   "language": "python",
   "name": "python3"
  },
  "language_info": {
   "codemirror_mode": {
    "name": "ipython",
    "version": 3
   },
   "file_extension": ".py",
   "mimetype": "text/x-python",
   "name": "python",
   "nbconvert_exporter": "python",
   "pygments_lexer": "ipython3",
   "version": "3.10.9"
  }
 },
 "nbformat": 4,
 "nbformat_minor": 5
}
